{
  "nbformat": 4,
  "nbformat_minor": 0,
  "metadata": {
    "colab": {
      "provenance": [],
      "toc_visible": true,
      "authorship_tag": "ABX9TyNZoEPlIAQUBRAKxFUA0KLA",
      "include_colab_link": true
    },
    "kernelspec": {
      "name": "python3",
      "display_name": "Python 3"
    },
    "language_info": {
      "name": "python"
    }
  },
  "cells": [
    {
      "cell_type": "markdown",
      "metadata": {
        "id": "view-in-github",
        "colab_type": "text"
      },
      "source": [
        "<a href=\"https://colab.research.google.com/github/angelanto0127/Task2---predictive-analysis-using-machine-learning/blob/main/Predictive_Analysis_Using_Machine_Learning.ipynb\" target=\"_parent\"><img src=\"https://colab.research.google.com/assets/colab-badge.svg\" alt=\"Open In Colab\"/></a>"
      ]
    },
    {
      "cell_type": "code",
      "execution_count": 1,
      "metadata": {
        "id": "Vm8lwzoeYHo5"
      },
      "outputs": [],
      "source": [
        "!apt-get install openjdk-8-jdk-headless -qq > /dev/null\n",
        "!pip install -q pyspark\n",
        "import os\n",
        "os.environ[\"JAVA_HOME\"] = \"/usr/lib/jvm/java-8-openjdk-amd64\""
      ]
    },
    {
      "cell_type": "code",
      "source": [
        "from pyspark.sql import SparkSession\n",
        "spark = SparkSession.builder.appName(\"MLBigData\").getOrCreate()"
      ],
      "metadata": {
        "id": "wRWAyjlsYXvv"
      },
      "execution_count": 2,
      "outputs": []
    },
    {
      "cell_type": "code",
      "source": [
        "url = \"https://raw.githubusercontent.com/datablist/sample-csv-files/main/files/people/people-100000.csv\"\n",
        "# Download the file locally first\n",
        "!wget -O /tmp/people-100000.csv {url}\n",
        "\n",
        "df = spark.read.csv(\"/tmp/people-100000.csv\", header=True, inferSchema=True)\n",
        "df.show(5)"
      ],
      "metadata": {
        "colab": {
          "base_uri": "https://localhost:8080/"
        },
        "id": "6pzioFBcYcKM",
        "outputId": "7f4aa25f-706a-4cca-b41a-98e4165033df"
      },
      "execution_count": 4,
      "outputs": [
        {
          "output_type": "stream",
          "name": "stdout",
          "text": [
            "--2025-07-16 08:38:03--  https://raw.githubusercontent.com/datablist/sample-csv-files/main/files/people/people-100000.csv\n",
            "Resolving raw.githubusercontent.com (raw.githubusercontent.com)... 185.199.108.133, 185.199.109.133, 185.199.110.133, ...\n",
            "Connecting to raw.githubusercontent.com (raw.githubusercontent.com)|185.199.108.133|:443... connected.\n",
            "HTTP request sent, awaiting response... 404 Not Found\n",
            "2025-07-16 08:38:03 ERROR 404: Not Found.\n",
            "\n",
            "++\n",
            "||\n",
            "++\n",
            "++\n",
            "\n"
          ]
        }
      ]
    },
    {
      "cell_type": "code",
      "source": [
        "from pyspark.ml.feature import VectorAssembler\n",
        "from pyspark.ml.regression import LinearRegression\n",
        "from pyspark.sql import SparkSession\n",
        "\n",
        "# Initialize Spark\n",
        "spark = SparkSession.builder.appName(\"MLBigData\").getOrCreate()\n",
        "\n",
        "# Load dataset\n",
        "url = \"https://api.slingacademy.com/v1/sample-data/files/employees.csv\"\n",
        "# Download the file locally first\n",
        "!wget -O /tmp/employees.csv {url}\n",
        "\n",
        "df = spark.read.csv(\"/tmp/employees.csv\", header=True, inferSchema=True)\n",
        "df.show(5)"
      ],
      "metadata": {
        "colab": {
          "base_uri": "https://localhost:8080/"
        },
        "id": "e7jM3bMFhbjc",
        "outputId": "b350689d-3118-44bf-826f-3f6c7760654c"
      },
      "execution_count": 10,
      "outputs": [
        {
          "output_type": "stream",
          "name": "stdout",
          "text": [
            "--2025-07-16 09:17:19--  https://api.slingacademy.com/v1/sample-data/files/employees.csv\n",
            "Resolving api.slingacademy.com (api.slingacademy.com)... 172.67.219.10, 104.21.86.119, 2606:4700:3035::6815:5677, ...\n",
            "Connecting to api.slingacademy.com (api.slingacademy.com)|172.67.219.10|:443... connected.\n",
            "HTTP request sent, awaiting response... 200 OK\n",
            "Length: unspecified [text/csv]\n",
            "Saving to: ‘/tmp/employees.csv’\n",
            "\n",
            "/tmp/employees.csv      [  <=>               ]  33.53K   140KB/s    in 0.2s    \n",
            "\n",
            "2025-07-16 09:17:21 (140 KB/s) - ‘/tmp/employees.csv’ saved [34336]\n",
            "\n",
            "+----------+---------+--------------------+--------------------+------+---+--------------------+-------------------+------+----------+\n",
            "|First Name|Last Name|               Email|               Phone|Gender|Age|           Job Title|Years Of Experience|Salary|Department|\n",
            "+----------+---------+--------------------+--------------------+------+---+--------------------+-------------------+------+----------+\n",
            "|      Jose|    Lopez|joselopez0944@sli...|+1-971-533-4552x1542|  male| 25|     Project Manager|                  1|  8500|   Product|\n",
            "|     Diane|   Carter|dianecarter1228@s...|        881.633.0107|female| 26|Machine Learning ...|                  2|  7000|   Product|\n",
            "|     Shawn|   Foster|shawnfoster2695@s...|001-966-861-0065x493|  male| 37|     Project Manager|                 14| 17000|   Product|\n",
            "|    Brenda|   Fisher|brendafisher3185@...|    001-574-564-4648|female| 31|       Web Developer|                  8| 10000|   Product|\n",
            "|      Sean|   Hunter|seanhunter4753@sl...|          5838355842|  male| 35|     Project Manager|                 11| 14500|   Product|\n",
            "+----------+---------+--------------------+--------------------+------+---+--------------------+-------------------+------+----------+\n",
            "only showing top 5 rows\n",
            "\n"
          ]
        }
      ]
    },
    {
      "cell_type": "code",
      "source": [
        "train_data, test_data = processed_df.randomSplit([0.8, 0.2], seed=42)\n"
      ],
      "metadata": {
        "id": "yLj85X_GlgmB"
      },
      "execution_count": 23,
      "outputs": []
    },
    {
      "cell_type": "code",
      "source": [],
      "metadata": {
        "id": "5jldhLcyrFiV"
      },
      "execution_count": null,
      "outputs": []
    },
    {
      "cell_type": "code",
      "metadata": {
        "colab": {
          "base_uri": "https://localhost:8080/"
        },
        "id": "9b49818c",
        "outputId": "ca5e4412-8a89-45b2-ab14-5645fd8b9d42"
      },
      "source": [
        "from pyspark.ml.feature import StringIndexer, VectorAssembler\n",
        "from pyspark.ml import Pipeline\n",
        "\n",
        "# Drop rows with nulls (optional, depending on data)\n",
        "df = df.dropna()\n",
        "\n",
        "# Target: Predict 'Salary' (assuming this is the target based on employee data)\n",
        "# Ensure 'Salary' column exists and is suitable for StringIndexer or other transformers\n",
        "# For regression, 'Salary' should be numeric. If it's a string, you might need other transformations.\n",
        "# Let's assume 'Salary' is numeric for now and skip StringIndexer for a direct regression target.\n",
        "# If 'Salary' is a string and represents categories, StringIndexer would be appropriate.\n",
        "\n",
        "# Let's try to predict 'Salary' (numeric) using 'Years Of Experience' (numeric)\n",
        "feature_cols = ['Years Of Experience'] # Using a relevant numeric column as a feature\n",
        "assembler = VectorAssembler(inputCols=feature_cols, outputCol=\"features\")\n",
        "\n",
        "# Since 'Salary' is likely numeric for regression, we'll just use it as the label directly\n",
        "processed_df = assembler.transform(df).withColumnRenamed(\"Salary\", \"label\")\n",
        "\n",
        "\n",
        "processed_df.select(\"features\", \"label\").show(5)"
      ],
      "execution_count": 12,
      "outputs": [
        {
          "output_type": "stream",
          "name": "stdout",
          "text": [
            "+--------+-----+\n",
            "|features|label|\n",
            "+--------+-----+\n",
            "|   [1.0]| 8500|\n",
            "|   [2.0]| 7000|\n",
            "|  [14.0]|17000|\n",
            "|   [8.0]|10000|\n",
            "|  [11.0]|14500|\n",
            "+--------+-----+\n",
            "only showing top 5 rows\n",
            "\n"
          ]
        }
      ]
    },
    {
      "cell_type": "code",
      "source": [
        "url = \"https://archive.ics.uci.edu/ml/machine-learning-databases/iris/iris.data\"\n"
      ],
      "metadata": {
        "id": "AkVyu6FriLrX"
      },
      "execution_count": 14,
      "outputs": []
    },
    {
      "cell_type": "code",
      "source": [
        "from pyspark.sql import SparkSession\n",
        "\n",
        "spark = SparkSession.builder.appName(\"IrisClassification\").getOrCreate()\n",
        "\n",
        "url = \"https://archive.ics.uci.edu/ml/machine-learning-databases/iris/iris.data\"\n",
        "columns = [\"sepal_length\", \"sepal_width\", \"petal_length\", \"petal_width\", \"class\"]\n",
        "\n",
        "# Download the file locally first\n",
        "!wget -O /tmp/iris.data {url}\n",
        "\n",
        "df = spark.read.csv(\"/tmp/iris.data\", header=False, inferSchema=True).toDF(*columns)\n",
        "df = df.dropna()\n",
        "df.show(5)"
      ],
      "metadata": {
        "colab": {
          "base_uri": "https://localhost:8080/"
        },
        "id": "fD0ivm4mjMkR",
        "outputId": "ef03e4ba-36b1-495d-9168-40b5ffe8f867"
      },
      "execution_count": 20,
      "outputs": [
        {
          "output_type": "stream",
          "name": "stdout",
          "text": [
            "--2025-07-16 09:25:00--  https://archive.ics.uci.edu/ml/machine-learning-databases/iris/iris.data\n",
            "Resolving archive.ics.uci.edu (archive.ics.uci.edu)... 128.195.10.252\n",
            "Connecting to archive.ics.uci.edu (archive.ics.uci.edu)|128.195.10.252|:443... connected.\n",
            "HTTP request sent, awaiting response... 200 OK\n",
            "Length: unspecified\n",
            "Saving to: ‘/tmp/iris.data’\n",
            "\n",
            "/tmp/iris.data          [ <=>                ]   4.44K  --.-KB/s    in 0s      \n",
            "\n",
            "2025-07-16 09:25:00 (57.8 MB/s) - ‘/tmp/iris.data’ saved [4551]\n",
            "\n",
            "+------------+-----------+------------+-----------+-----------+\n",
            "|sepal_length|sepal_width|petal_length|petal_width|      class|\n",
            "+------------+-----------+------------+-----------+-----------+\n",
            "|         5.1|        3.5|         1.4|        0.2|Iris-setosa|\n",
            "|         4.9|        3.0|         1.4|        0.2|Iris-setosa|\n",
            "|         4.7|        3.2|         1.3|        0.2|Iris-setosa|\n",
            "|         4.6|        3.1|         1.5|        0.2|Iris-setosa|\n",
            "|         5.0|        3.6|         1.4|        0.2|Iris-setosa|\n",
            "+------------+-----------+------------+-----------+-----------+\n",
            "only showing top 5 rows\n",
            "\n"
          ]
        }
      ]
    },
    {
      "cell_type": "code",
      "metadata": {
        "colab": {
          "base_uri": "https://localhost:8080/",
          "height": 555
        },
        "id": "d9177940",
        "outputId": "db7193c9-0e1f-4b83-8094-f7fe7a6e4d27"
      },
      "source": [
        "import matplotlib.pyplot as plt\n",
        "import seaborn as sns\n",
        "\n",
        "# Convert relevant columns to a pandas DataFrame for plotting\n",
        "pandas_df = processed_df.select(\"Years Of Experience\", \"label\").toPandas()\n",
        "\n",
        "# Create a scatter plot\n",
        "plt.figure(figsize=(10, 6))\n",
        "sns.scatterplot(data=pandas_df, x=\"Years Of Experience\", y=\"label\")\n",
        "plt.title(\"Salary vs. Years of Experience\")\n",
        "plt.xlabel(\"Years of Experience\")\n",
        "plt.ylabel(\"Salary\")\n",
        "plt.grid(True)\n",
        "plt.show()"
      ],
      "execution_count": 24,
      "outputs": [
        {
          "output_type": "display_data",
          "data": {
            "text/plain": [
              "<Figure size 1000x600 with 1 Axes>"
            ],
            "image/png": "[encoded data removed]"
          },
          "metadata": {}
        }
      ]
    }
  ]
}